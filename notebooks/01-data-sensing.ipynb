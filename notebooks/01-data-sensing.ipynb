{
 "cells": [
  {
   "cell_type": "code",
   "execution_count": 1,
   "metadata": {
    "collapsed": true
   },
   "outputs": [],
   "source": [
    "import glob\n",
    "import numpy as np\n",
    "import pandas as pd\n",
    "import matplotlib.pyplot as plt"
   ]
  },
  {
   "cell_type": "code",
   "execution_count": 2,
   "metadata": {
    "collapsed": true
   },
   "outputs": [
    {
     "data": {
      "text/plain": [
       "['../data/raw/COVID-19/csse_covid_19_data/csse_covid_19_daily_reports/01-22-2020.csv',\n",
       " '../data/raw/COVID-19/csse_covid_19_data/csse_covid_19_daily_reports/03-28-2020.csv',\n",
       " '../data/raw/COVID-19/csse_covid_19_data/csse_covid_19_daily_reports/02-17-2020.csv',\n",
       " '../data/raw/COVID-19/csse_covid_19_data/csse_covid_19_daily_reports/01-31-2020.csv',\n",
       " '../data/raw/COVID-19/csse_covid_19_data/csse_covid_19_daily_reports/03-25-2020.csv',\n",
       " '../data/raw/COVID-19/csse_covid_19_data/csse_covid_19_daily_reports/01-25-2020.csv',\n",
       " '../data/raw/COVID-19/csse_covid_19_data/csse_covid_19_daily_reports/02-01-2020.csv',\n",
       " '../data/raw/COVID-19/csse_covid_19_data/csse_covid_19_daily_reports/03-11-2020.csv',\n",
       " '../data/raw/COVID-19/csse_covid_19_data/csse_covid_19_daily_reports/02-13-2020.csv',\n",
       " '../data/raw/COVID-19/csse_covid_19_data/csse_covid_19_daily_reports/01-28-2020.csv']"
      ]
     },
     "execution_count": 2,
     "metadata": {},
     "output_type": "execute_result"
    }
   ],
   "source": [
    "files = glob.glob('../data/raw/COVID-19/csse_covid_19_data/csse_covid_19_daily_reports/*.csv')\n",
    "files[:10]"
   ]
  },
  {
   "cell_type": "code",
   "execution_count": 3,
   "metadata": {},
   "outputs": [
    {
     "data": {
      "text/plain": [
       "'Province/State,Country/Region,Last Update,Confirmed,Deaths,Recovered\\nHubei,Mainland China,2020-02-10T23:33:02,31728,974,2222\\nGuangdong,Mainland China,2020-02-10T13:43:02,1159,1,167\\nZhejiang,Mainland China,2020-02-10T14:13:12,1092,0,242\\nHenan,Mainland China,2020-02-10T13:53:02,1073,6,191\\nHunan,Mainland China,2020-02-10T13:53:02,879,1,208\\nAnhui,Mainland China,2020-02-10T07:23:04,830,3,88\\nJiangxi,Mainland China,2020-02-10T13:53:02,771,1,105\\nJiangsu,Mainland China,2020-02-10T14:03:05,492,0,81\\nChongqing,Mainland China,2020-02-10T23:43:02,486,2,66\\nShandong,Mainland China,2020-02-10T09:33:02,466,1,66\\nSichuan,Mainland China,2020-02-10T10:03:02,405,1,80\\nBeijing,Mainland China,2020-02-10T03:13:08,337,2,44\\nHeilongjiang,Mainland China,2020-02-10T07:33:05,331,7,30\\nShanghai,Mainland China,2020-02-10T06:03:13,299,1,48\\nFujian,Mainland China,2020-02-10T14:03:05,261,0,39\\nHebei,Mainland China,2020-02-10T10:03:02,218,2,41\\nShaanxi,Mainland China,2020-02-10T13:23:06,213,0,30\\nGuangxi,Mainland China,2020-02-10T14:03:05,210,1,24\\nYunnan,Mainland China,2020-02-10T09:43:02,149,0,19\\nHainan,Mainland China,2020-02-10T09:33:02,138,3,19\\nDiamond Princess cruise ship,Others,2020-02-10T16:03:12,135,0,0\\nShanxi,Mainland China,2020-02-09T23:43:02,119,0,25\\nGuizhou,Mainland China,2020-02-10T12:33:02,109,1,10\\nLiaoning,Mainland China,2020-02-10T14:03:05,108,0,13\\nTianjin,Mainland China,2020-02-10T14:23:08,95,1,8\\nGansu,Mainland China,2020-02-10T07:23:04,83,2,17\\nJilin,Mainland China,2020-02-10T14:03:05,80,1,13\\nInner Mongolia,Mainland China,2020-02-10T02:43:05,58,0,5\\nNingxia,Mainland China,2020-02-10T01:43:02,49,0,13\\nXinjiang,Mainland China,2020-02-10T01:13:06,49,0,0\\n,Singapore,2020-02-10T19:03:02,45,0,2\\nHong Kong,Hong Kong,2020-02-10T10:13:06,38,1,0\\n,Thailand,2020-02-08T12:53:01,32,0,10\\n,South Korea,2020-02-10T03:03:09,27,0,3\\n,Japan,2020-02-10T21:33:02,26,0,4\\nQinghai,Mainland China,2020-02-06T02:13:15,18,0,3\\n,Malaysia,2020-02-10T03:03:09,18,0,1\\nTaiwan,Taiwan,2020-02-09T09:13:11,18,0,1\\n,Germany,2020-02-09T06:13:11,14,0,0\\n,Vietnam,2020-02-10T03:03:09,14,0,1\\n,France,2020-02-08T09:53:01,11,0,0\\nMacau,Macau,2020-02-06T14:23:04,10,0,1\\n,UK,2020-02-10T19:03:02,8,0,0\\n,United Arab Emirates,2020-02-10T23:03:09,8,0,0\\nQueensland,Australia,2020-02-09T19:33:02,5,0,0\\nNew South Wales,Australia,2020-02-06T03:13:22,4,0,2\\nVictoria,Australia,2020-02-01T18:12:49,4,0,0\\nBritish Columbia,Canada,2020-02-07T05:43:03,4,0,0\\n,India,2020-02-03T21:43:02,3,0,0\\n,Italy,2020-02-07T17:53:02,3,0,0\\n,Philippines,2020-02-07T16:43:04,3,1,0\\nSouth Australia,Australia,2020-02-02T22:33:07,2,0,0\\n\"Toronto, ON\",Canada,2020-02-04T00:13:06,2,0,0\\n,Russia,2020-01-31T16:13:45,2,0,0\\n,Spain,2020-02-09T20:33:03,2,0,0\\n\"Chicago, IL\",US,2020-02-09T19:03:03,2,0,2\\n\"San Benito, CA\",US,2020-02-03T03:53:02,2,0,0\\n\"Santa Clara, CA\",US,2020-02-03T00:43:02,2,0,0\\n,Belgium,2020-02-04T15:43:02,1,0,0\\n,Cambodia,2020-01-31T08:15:53,1,0,0\\n\"London, ON\",Canada,2020-02-04T00:03:11,1,0,0\\n,Finland,2020-01-31T08:15:53,1,0,0\\nTibet,Mainland China,2020-02-01T01:52:40,1,0,0\\n,Nepal,2020-01-31T08:15:53,1,0,0\\n,Sri Lanka,2020-02-08T03:43:03,1,0,1\\n,Sweden,2020-02-01T02:13:26,1,0,0\\n\"Boston, MA\",US,2020-02-01T19:43:03,1,0,0\\n\"Los Angeles, CA\",US,2020-02-01T19:53:03,1,0,0\\n\"Madison, WI\",US,2020-02-05T21:53:02,1,0,0\\n\"Orange, CA\",US,2020-02-01T19:53:03,1,0,0\\n\"Seattle, WA\",US,2020-02-09T07:03:04,1,0,1\\n\"Tempe, AZ\",US,2020-02-01T19:43:03,1,0,0\\n'"
      ]
     },
     "execution_count": 3,
     "metadata": {},
     "output_type": "execute_result"
    }
   ],
   "source": [
    "f = open(files[-2], 'r')\n",
    "f.read()"
   ]
  },
  {
   "cell_type": "code",
   "execution_count": 4,
   "metadata": {},
   "outputs": [],
   "source": [
    "v = pd.read_csv(files[-2], sep=',')"
   ]
  },
  {
   "cell_type": "code",
   "execution_count": 5,
   "metadata": {},
   "outputs": [
    {
     "data": {
      "text/html": [
       "<div>\n",
       "<style scoped>\n",
       "    .dataframe tbody tr th:only-of-type {\n",
       "        vertical-align: middle;\n",
       "    }\n",
       "\n",
       "    .dataframe tbody tr th {\n",
       "        vertical-align: top;\n",
       "    }\n",
       "\n",
       "    .dataframe thead th {\n",
       "        text-align: right;\n",
       "    }\n",
       "</style>\n",
       "<table border=\"1\" class=\"dataframe\">\n",
       "  <thead>\n",
       "    <tr style=\"text-align: right;\">\n",
       "      <th></th>\n",
       "      <th>Province/State</th>\n",
       "      <th>Country/Region</th>\n",
       "      <th>Last Update</th>\n",
       "      <th>Confirmed</th>\n",
       "      <th>Deaths</th>\n",
       "      <th>Recovered</th>\n",
       "    </tr>\n",
       "  </thead>\n",
       "  <tbody>\n",
       "    <tr>\n",
       "      <td>0</td>\n",
       "      <td>Hubei</td>\n",
       "      <td>Mainland China</td>\n",
       "      <td>2020-02-10T23:33:02</td>\n",
       "      <td>31728</td>\n",
       "      <td>974</td>\n",
       "      <td>2222</td>\n",
       "    </tr>\n",
       "    <tr>\n",
       "      <td>1</td>\n",
       "      <td>Guangdong</td>\n",
       "      <td>Mainland China</td>\n",
       "      <td>2020-02-10T13:43:02</td>\n",
       "      <td>1159</td>\n",
       "      <td>1</td>\n",
       "      <td>167</td>\n",
       "    </tr>\n",
       "    <tr>\n",
       "      <td>2</td>\n",
       "      <td>Zhejiang</td>\n",
       "      <td>Mainland China</td>\n",
       "      <td>2020-02-10T14:13:12</td>\n",
       "      <td>1092</td>\n",
       "      <td>0</td>\n",
       "      <td>242</td>\n",
       "    </tr>\n",
       "    <tr>\n",
       "      <td>3</td>\n",
       "      <td>Henan</td>\n",
       "      <td>Mainland China</td>\n",
       "      <td>2020-02-10T13:53:02</td>\n",
       "      <td>1073</td>\n",
       "      <td>6</td>\n",
       "      <td>191</td>\n",
       "    </tr>\n",
       "    <tr>\n",
       "      <td>4</td>\n",
       "      <td>Hunan</td>\n",
       "      <td>Mainland China</td>\n",
       "      <td>2020-02-10T13:53:02</td>\n",
       "      <td>879</td>\n",
       "      <td>1</td>\n",
       "      <td>208</td>\n",
       "    </tr>\n",
       "    <tr>\n",
       "      <td>...</td>\n",
       "      <td>...</td>\n",
       "      <td>...</td>\n",
       "      <td>...</td>\n",
       "      <td>...</td>\n",
       "      <td>...</td>\n",
       "      <td>...</td>\n",
       "    </tr>\n",
       "    <tr>\n",
       "      <td>67</td>\n",
       "      <td>Los Angeles, CA</td>\n",
       "      <td>US</td>\n",
       "      <td>2020-02-01T19:53:03</td>\n",
       "      <td>1</td>\n",
       "      <td>0</td>\n",
       "      <td>0</td>\n",
       "    </tr>\n",
       "    <tr>\n",
       "      <td>68</td>\n",
       "      <td>Madison, WI</td>\n",
       "      <td>US</td>\n",
       "      <td>2020-02-05T21:53:02</td>\n",
       "      <td>1</td>\n",
       "      <td>0</td>\n",
       "      <td>0</td>\n",
       "    </tr>\n",
       "    <tr>\n",
       "      <td>69</td>\n",
       "      <td>Orange, CA</td>\n",
       "      <td>US</td>\n",
       "      <td>2020-02-01T19:53:03</td>\n",
       "      <td>1</td>\n",
       "      <td>0</td>\n",
       "      <td>0</td>\n",
       "    </tr>\n",
       "    <tr>\n",
       "      <td>70</td>\n",
       "      <td>Seattle, WA</td>\n",
       "      <td>US</td>\n",
       "      <td>2020-02-09T07:03:04</td>\n",
       "      <td>1</td>\n",
       "      <td>0</td>\n",
       "      <td>1</td>\n",
       "    </tr>\n",
       "    <tr>\n",
       "      <td>71</td>\n",
       "      <td>Tempe, AZ</td>\n",
       "      <td>US</td>\n",
       "      <td>2020-02-01T19:43:03</td>\n",
       "      <td>1</td>\n",
       "      <td>0</td>\n",
       "      <td>0</td>\n",
       "    </tr>\n",
       "  </tbody>\n",
       "</table>\n",
       "<p>72 rows × 6 columns</p>\n",
       "</div>"
      ],
      "text/plain": [
       "     Province/State  Country/Region          Last Update  Confirmed  Deaths  \\\n",
       "0             Hubei  Mainland China  2020-02-10T23:33:02      31728     974   \n",
       "1         Guangdong  Mainland China  2020-02-10T13:43:02       1159       1   \n",
       "2          Zhejiang  Mainland China  2020-02-10T14:13:12       1092       0   \n",
       "3             Henan  Mainland China  2020-02-10T13:53:02       1073       6   \n",
       "4             Hunan  Mainland China  2020-02-10T13:53:02        879       1   \n",
       "..              ...             ...                  ...        ...     ...   \n",
       "67  Los Angeles, CA              US  2020-02-01T19:53:03          1       0   \n",
       "68      Madison, WI              US  2020-02-05T21:53:02          1       0   \n",
       "69       Orange, CA              US  2020-02-01T19:53:03          1       0   \n",
       "70      Seattle, WA              US  2020-02-09T07:03:04          1       0   \n",
       "71        Tempe, AZ              US  2020-02-01T19:43:03          1       0   \n",
       "\n",
       "    Recovered  \n",
       "0        2222  \n",
       "1         167  \n",
       "2         242  \n",
       "3         191  \n",
       "4         208  \n",
       "..        ...  \n",
       "67          0  \n",
       "68          0  \n",
       "69          0  \n",
       "70          1  \n",
       "71          0  \n",
       "\n",
       "[72 rows x 6 columns]"
      ]
     },
     "execution_count": 5,
     "metadata": {},
     "output_type": "execute_result"
    }
   ],
   "source": [
    "v"
   ]
  }
 ],
 "metadata": {
  "kernelspec": {
   "display_name": ".venv",
   "language": "python",
   "name": ".venv"
  },
  "language_info": {
   "codemirror_mode": {
    "name": "ipython",
    "version": 3
   },
   "file_extension": ".py",
   "mimetype": "text/x-python",
   "name": "python",
   "nbconvert_exporter": "python",
   "pygments_lexer": "ipython3",
   "version": "3.6.8"
  }
 },
 "nbformat": 4,
 "nbformat_minor": 2
}
